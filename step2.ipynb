{
 "cells": [
  {
   "cell_type": "markdown",
   "metadata": {},
   "source": [
    "# 参考链接\n",
    "主成分分析法 http://c.biancheng.net/view/1951.html\n",
    "关于sklearn.preprocessing中scale和StandardScaler的使用 https://blog.csdn.net/dengdengma520/article/details/79629186\n",
    "机器学习—保存模型、加载模型—Joblib https://blog.csdn.net/weixin_45252110/article/details/98883571\n",
    "Scipy教程 - 统计函数库scipy.stats https://blog.csdn.net/pipisorry/article/details/49515215\n",
    "word2vec的应用----使用gensim来训练模型 https://blog.csdn.net/qq_35273499/article/details/79098689\n",
    "scipy.stats的用法——常见的分布和函数 https://blog.csdn.net/baby_superman/article/details/83749803"
   ]
  },
  {
   "cell_type": "code",
   "execution_count": 1,
   "metadata": {},
   "outputs": [],
   "source": [
    "import numpy as np\n",
    "import sys\n",
    "import re\n",
    "import codecs # 解码库\n",
    "import os\n",
    "import jieba\n",
    "import gensim,logging\n",
    "from gensim.models import word2vec\n",
    "from sklearn.model_selection import train_test_split\n",
    "# from sklearn.externals import joblib # 保存模型、加载模型\n",
    "import joblib\n",
    "from sklearn.preprocessing import scale # 直接将给定数据进行标准化。=> 均值为零，标准差为1\n",
    "from sklearn.svm import SVC # Support Vector Classification 就是支持向量机用于分类\n",
    "from sklearn.decomposition import PCA # Principal Component Analysis 主成分分析\n",
    "from sklearn.metrics import f1_score \n",
    "from sklearn.metrics import roc_curve\n",
    "from sklearn.metrics import roc_auc_score as auc\n",
    "from scipy import stats # 统计函数库\n",
    "from scipy.stats import ks_2samp\n",
    "from keras.models import Sequential \n",
    "from keras.layers import Dense,Dropout, Activation \n",
    "from keras.optimizers import SGD\n",
    "from keras.layers.embeddings import Embedding\n",
    "from keras.layers.recurrent import LSTM\n",
    "import matplotlib.pyplot as plt\n",
    "import sklearn"
   ]
  },
  {
   "cell_type": "markdown",
   "metadata": {},
   "source": [
    "# 加载W2V模型"
   ]
  },
  {
   "cell_type": "code",
   "execution_count": 2,
   "metadata": {},
   "outputs": [],
   "source": [
    "W2Vmodel = word2vec.Word2Vec.load(\"W2Vmodel\\CommentsW2V.model\")"
   ]
  },
  {
   "cell_type": "code",
   "execution_count": 3,
   "metadata": {},
   "outputs": [],
   "source": [
    "def getWordVecs(wordList):\n",
    "    vecs = []\n",
    "    for word in wordList:\n",
    "        word = word.replace(\"\\n\",\"\")\n",
    "        try:\n",
    "            vecs.append(W2Vmodel[word])\n",
    "        except KeyError:\n",
    "            continue\n",
    "    return np.array(vecs,dtype=\"float\")\n",
    "\n",
    "def buildWordVec(filename):\n",
    "    posInput = []\n",
    "    with open(filename,\"r\",encoding=\"utf8\") as textfile:\n",
    "        for line in textfile:\n",
    "            if not line.strip():\n",
    "                continue\n",
    "            line = line.split(\" \")[2:]\n",
    "            line = line[:-1]\n",
    "            resultList = getWordVecs(line)\n",
    "            if len(resultList) > 0:\n",
    "                resultArray = sum(np.array(resultList))/len(resultList)\n",
    "                posInput.append(resultArray)\n",
    "    return posInput"
   ]
  },
  {
   "cell_type": "code",
   "execution_count": 4,
   "metadata": {},
   "outputs": [
    {
     "name": "stderr",
     "output_type": "stream",
     "text": [
      "D:\\app\\anaconda\\envs\\pls\\lib\\site-packages\\ipykernel_launcher.py:6: DeprecationWarning: Call to deprecated `__getitem__` (Method will be removed in 4.0.0, use self.wv.__getitem__() instead).\n",
      "  \n"
     ]
    }
   ],
   "source": [
    "posInput = buildWordVec(\"dataset\\TrainPos.txt\")\n",
    "negInput = buildWordVec(\"dataset\\TrainNeg.txt\")"
   ]
  },
  {
   "cell_type": "code",
   "execution_count": 5,
   "metadata": {},
   "outputs": [],
   "source": [
    "y = np.concatenate((np.ones(len(posInput)),np.zeros(len(negInput))))\n",
    "X = posInput + negInput\n",
    "#标准化\n",
    "X = scale(X) \n",
    "# PCA降维成100维\n",
    "X_reduced = PCA(n_components=100).fit_transform(X)"
   ]
  },
  {
   "cell_type": "code",
   "execution_count": 32,
   "metadata": {},
   "outputs": [],
   "source": [
    "# 训练集和测试集\n",
    "X_reduced_train,X_reduced_test,y_reduced_train,y_reduced_test = train_test_split(X_reduced,y,test_size=0.4,random_state=1)\n",
    "X_train,X_test,y_train,y_test = train_test_split(X,y,test_size=0.4,random_state=1)"
   ]
  },
  {
   "cell_type": "markdown",
   "metadata": {},
   "source": [
    "### 有两个PCA类的成员值得关注。\n",
    "第一个是explained_variance_，它代表降维后的各主成分的方差值。方差值越大，则说明越是重要的主成分。\n",
    "第二个是explained_variance_ratio_，它代表降维后的各主成分的方差值占总方差值的比例，这个比例越大，则越是重要的主成分。\n",
    "\n",
    "plt.axes 四个参数的话，\n",
    "前两个指的是相对于坐标原点的位置，\n",
    "后两个指的是坐标轴的长/宽度"
   ]
  },
  {
   "cell_type": "markdown",
   "metadata": {},
   "source": [
    "### 画图分析"
   ]
  },
  {
   "cell_type": "code",
   "execution_count": 8,
   "metadata": {},
   "outputs": [
    {
     "data": {
      "text/plain": [
       "Text(0, 0.5, 'explained_variance_')"
      ]
     },
     "execution_count": 8,
     "metadata": {},
     "output_type": "execute_result"
    },
    {
     "data": {
      "image/png": "[encoded data removed]",
      "text/plain": [
       "<Figure size 288x216 with 1 Axes>"
      ]
     },
     "metadata": {
      "needs_background": "light"
     },
     "output_type": "display_data"
    }
   ],
   "source": [
    "pca=PCA(n_components=100)  \n",
    "pca.fit(X) \n",
    "plt.figure(1, figsize=(4, 3)) \n",
    "plt.clf() \n",
    "plt.axes([.2, .2, .7, .7]) \n",
    "plt.plot(pca.explained_variance_, linewidth=2) \n",
    "plt.axis('tight') \n",
    "plt.xlabel('n_components') \n",
    "plt.ylabel('explained_variance_') "
   ]
  },
  {
   "cell_type": "markdown",
   "metadata": {},
   "source": [
    "通过图，可以很直观的看出，当维度是100的时候\n",
    "每一个维度代表的重要程度都差不多\n",
    "说明每一个维度都是不可或缺的，达到了数据降维的目的。"
   ]
  },
  {
   "cell_type": "code",
   "execution_count": 9,
   "metadata": {},
   "outputs": [],
   "source": [
    "# 所以使用 n_components = 100\n",
    "X_reduced = PCA(n_components = 100).fit_transform(X)"
   ]
  },
  {
   "cell_type": "markdown",
   "metadata": {},
   "source": [
    "# 2.3.1 SVM (RBF) + PCA\n",
    "SVM (RBF)分类表现更为宽松，且使用PCA降维后的模型表现有明显提升，\n",
    "\n",
    "高斯核和多项式核干的事情截然不同的，如果对于样本数量少，特征多的数据集，高斯核相当于对样本降维；\n",
    "\n",
    "高斯核的任务：找到更有利分类任务的新的空间。\n",
    "\n",
    "高斯核本质是在衡量样本和样本之间的“相似度”，在一个刻画“相似度”的空间中，\n",
    "\n",
    "让同类样本更好的聚在一起，进而线性可分。\n",
    "\n",
    "C越大，对误分类惩罚越大，训练集准确率高，泛化能力弱\n",
    "\n",
    "C越小，反之"
   ]
  },
  {
   "cell_type": "code",
   "execution_count": 10,
   "metadata": {},
   "outputs": [
    {
     "name": "stdout",
     "output_type": "stream",
     "text": [
      "Test Accuracy: 0.79\n"
     ]
    }
   ],
   "source": [
    "clf = SVC(C = 2, probability = True) \n",
    "clf.fit(X_reduced_train, y_reduced_train) \n",
    "print ('Test Accuracy: %.2f'% clf.score(X_reduced_test, y_reduced_test) )"
   ]
  },
  {
   "cell_type": "markdown",
   "metadata": {},
   "source": [
    "KS用于模型风险区分能力进行评估，KS指标衡量的是好坏样本累计分布之间的差值。好坏样本累计差异越大，KS指标越大，那么模型的风险区分能力越强。"
   ]
  },
  {
   "cell_type": "code",
   "execution_count": 16,
   "metadata": {},
   "outputs": [
    {
     "name": "stdout",
     "output_type": "stream",
     "text": [
      "KS value: 0.534508\n"
     ]
    }
   ],
   "source": [
    "pred_probas = clf.predict_proba(X_reduced_test)[:,1]\n",
    "# 返回预测属于某标签的概率 \n",
    "print (\"KS value: %f\" % ks_2samp(y_reduced_test, pred_probas)[0] )"
   ]
  },
  {
   "cell_type": "markdown",
   "metadata": {},
   "source": [
    "AUC = 1，是完美分类器。<br>\n",
    "AUC = 0.5，跟随机猜测一样（例：丢铜板），模型没有预测价值。<br>\n",
    "AUC < 0.5，比随机猜测还差；但只要总是反预测而行，就优于随机猜测。"
   ]
  },
  {
   "cell_type": "code",
   "execution_count": 13,
   "metadata": {},
   "outputs": [
    {
     "data": {
      "image/png": "[encoded data removed]",
      "text/plain": [
       "<Figure size 432x288 with 1 Axes>"
      ]
     },
     "metadata": {
      "needs_background": "light"
     },
     "output_type": "display_data"
    }
   ],
   "source": [
    "fpr,tpr,_ = roc_curve(y_reduced_test, pred_probas)\n",
    "roc_auc =  sklearn.metrics.auc(fpr,tpr)\n",
    "plt.plot(fpr, tpr, label = 'roc_auc = %.2f' % roc_auc)\n",
    "plt.plot([0, 1], [0, 1], 'k--')\n",
    "plt.xlim([0.0, 1.0])\n",
    "plt.ylim([0.0, 1.05])\n",
    "plt.legend(loc = 'lower right')\n",
    "plt.show()"
   ]
  },
  {
   "cell_type": "markdown",
   "metadata": {},
   "source": [
    "auc = 0.87 效果很好"
   ]
  },
  {
   "cell_type": "code",
   "execution_count": 92,
   "metadata": {},
   "outputs": [
    {
     "data": {
      "text/plain": [
       "['outputs/SVC.pkl']"
      ]
     },
     "execution_count": 92,
     "metadata": {},
     "output_type": "execute_result"
    }
   ],
   "source": [
    "joblib.dump(clf, \"outputs/SVC.pkl\")"
   ]
  },
  {
   "cell_type": "markdown",
   "metadata": {},
   "source": [
    "### 2.3.2 MLP 多层感知机\n",
    "MLP相比于SVM (RBF)，分类更为严格，PCA降维后对模型准确率影响不大，misclassified多为正向文本被分类为负向，其实是更容易overfitting，原因是语料过少，其实用神经网络未免有些小题大做。"
   ]
  },
  {
   "cell_type": "code",
   "execution_count": 27,
   "metadata": {},
   "outputs": [],
   "source": [
    "model = Sequential([\n",
    "    Dense(512,input_dim=200,kernel_initializer=\"uniform\",activation='tanh'),\n",
    "    Dropout(0.5),\n",
    "    Dense(256,activation='relu'),\n",
    "    Dropout(0.5),\n",
    "    Dense(128,activation='relu'),\n",
    "    Dropout(0.5),\n",
    "    Dense(64,activation='relu'),\n",
    "    Dropout(0.5),\n",
    "    Dense(32,activation='relu'),\n",
    "    Dropout(0.5),\n",
    "    Dense(1,activation=\"sigmoid\"),\n",
    "])\n",
    "model.compile(loss='binary_crossentropy',optimizer=\"adam\",metrics=['accuracy'])"
   ]
  },
  {
   "cell_type": "code",
   "execution_count": 28,
   "metadata": {},
   "outputs": [
    {
     "name": "stdout",
     "output_type": "stream",
     "text": [
      "Model: \"sequential_4\"\n",
      "_________________________________________________________________\n",
      "Layer (type)                 Output Shape              Param #   \n",
      "=================================================================\n",
      "dense_18 (Dense)             (None, 512)               102912    \n",
      "_________________________________________________________________\n",
      "dropout_15 (Dropout)         (None, 512)               0         \n",
      "_________________________________________________________________\n",
      "dense_19 (Dense)             (None, 256)               131328    \n",
      "_________________________________________________________________\n",
      "dropout_16 (Dropout)         (None, 256)               0         \n",
      "_________________________________________________________________\n",
      "dense_20 (Dense)             (None, 128)               32896     \n",
      "_________________________________________________________________\n",
      "dropout_17 (Dropout)         (None, 128)               0         \n",
      "_________________________________________________________________\n",
      "dense_21 (Dense)             (None, 64)                8256      \n",
      "_________________________________________________________________\n",
      "dropout_18 (Dropout)         (None, 64)                0         \n",
      "_________________________________________________________________\n",
      "dense_22 (Dense)             (None, 32)                2080      \n",
      "_________________________________________________________________\n",
      "dropout_19 (Dropout)         (None, 32)                0         \n",
      "_________________________________________________________________\n",
      "dense_23 (Dense)             (None, 1)                 33        \n",
      "=================================================================\n",
      "Total params: 277,505\n",
      "Trainable params: 277,505\n",
      "Non-trainable params: 0\n",
      "_________________________________________________________________\n"
     ]
    }
   ],
   "source": [
    "model.summary()"
   ]
  },
  {
   "cell_type": "code",
   "execution_count": 33,
   "metadata": {},
   "outputs": [
    {
     "name": "stdout",
     "output_type": "stream",
     "text": [
      "Epoch 1/100\n",
      "714/714 [==============================] - 2s 3ms/step - loss: 0.6091 - accuracy: 0.6932\n",
      "Epoch 2/100\n",
      "714/714 [==============================] - 2s 3ms/step - loss: 0.5324 - accuracy: 0.7620\n",
      "Epoch 3/100\n",
      "714/714 [==============================] - 2s 3ms/step - loss: 0.5067 - accuracy: 0.7795\n",
      "Epoch 4/100\n",
      "714/714 [==============================] - 2s 3ms/step - loss: 0.4914 - accuracy: 0.7840\n",
      "Epoch 5/100\n",
      "714/714 [==============================] - 2s 3ms/step - loss: 0.4795 - accuracy: 0.7876\n",
      "Epoch 6/100\n",
      "714/714 [==============================] - 2s 3ms/step - loss: 0.4748 - accuracy: 0.7911\n",
      "Epoch 7/100\n",
      "714/714 [==============================] - 2s 3ms/step - loss: 0.4676 - accuracy: 0.7935\n",
      "Epoch 8/100\n",
      "714/714 [==============================] - 2s 3ms/step - loss: 0.4682 - accuracy: 0.7923\n",
      "Epoch 9/100\n",
      "714/714 [==============================] - 2s 3ms/step - loss: 0.4601 - accuracy: 0.7991\n",
      "Epoch 10/100\n",
      "714/714 [==============================] - 2s 3ms/step - loss: 0.4504 - accuracy: 0.8009\n",
      "Epoch 11/100\n",
      "714/714 [==============================] - 2s 3ms/step - loss: 0.4382 - accuracy: 0.8046\n",
      "Epoch 12/100\n",
      "714/714 [==============================] - 2s 3ms/step - loss: 0.4396 - accuracy: 0.8088\n",
      "Epoch 13/100\n",
      "714/714 [==============================] - 2s 3ms/step - loss: 0.4262 - accuracy: 0.8127\n",
      "Epoch 14/100\n",
      "714/714 [==============================] - 2s 3ms/step - loss: 0.4201 - accuracy: 0.8135\n",
      "Epoch 15/100\n",
      "714/714 [==============================] - 2s 3ms/step - loss: 0.4160 - accuracy: 0.8118\n",
      "Epoch 16/100\n",
      "714/714 [==============================] - 2s 3ms/step - loss: 0.4079 - accuracy: 0.8211\n",
      "Epoch 17/100\n",
      "714/714 [==============================] - 2s 3ms/step - loss: 0.4049 - accuracy: 0.8226\n",
      "Epoch 18/100\n",
      "714/714 [==============================] - 2s 3ms/step - loss: 0.3946 - accuracy: 0.8280\n",
      "Epoch 19/100\n",
      "714/714 [==============================] - 2s 3ms/step - loss: 0.3811 - accuracy: 0.8279\n",
      "Epoch 20/100\n",
      "714/714 [==============================] - 2s 3ms/step - loss: 0.3792 - accuracy: 0.8333\n",
      "Epoch 21/100\n",
      "714/714 [==============================] - 2s 3ms/step - loss: 0.3741 - accuracy: 0.8387\n",
      "Epoch 22/100\n",
      "714/714 [==============================] - 2s 3ms/step - loss: 0.3647 - accuracy: 0.8435\n",
      "Epoch 23/100\n",
      "714/714 [==============================] - 2s 3ms/step - loss: 0.3568 - accuracy: 0.8470\n",
      "Epoch 24/100\n",
      "714/714 [==============================] - 2s 3ms/step - loss: 0.3552 - accuracy: 0.8465\n",
      "Epoch 25/100\n",
      "714/714 [==============================] - 2s 3ms/step - loss: 0.3436 - accuracy: 0.8525\n",
      "Epoch 26/100\n",
      "714/714 [==============================] - 2s 3ms/step - loss: 0.3430 - accuracy: 0.8546\n",
      "Epoch 27/100\n",
      "714/714 [==============================] - 2s 3ms/step - loss: 0.3458 - accuracy: 0.8545\n",
      "Epoch 28/100\n",
      "714/714 [==============================] - 2s 3ms/step - loss: 0.3238 - accuracy: 0.8628\n",
      "Epoch 29/100\n",
      "714/714 [==============================] - 2s 3ms/step - loss: 0.3209 - accuracy: 0.8634\n",
      "Epoch 30/100\n",
      "714/714 [==============================] - 2s 3ms/step - loss: 0.3070 - accuracy: 0.8670\n",
      "Epoch 31/100\n",
      "714/714 [==============================] - 2s 3ms/step - loss: 0.3103 - accuracy: 0.8701\n",
      "Epoch 32/100\n",
      "714/714 [==============================] - 2s 3ms/step - loss: 0.3066 - accuracy: 0.8755\n",
      "Epoch 33/100\n",
      "714/714 [==============================] - 2s 3ms/step - loss: 0.2992 - accuracy: 0.8764\n",
      "Epoch 34/100\n",
      "714/714 [==============================] - 2s 3ms/step - loss: 0.2979 - accuracy: 0.8798\n",
      "Epoch 35/100\n",
      "714/714 [==============================] - 2s 3ms/step - loss: 0.2856 - accuracy: 0.8807\n",
      "Epoch 36/100\n",
      "714/714 [==============================] - 2s 3ms/step - loss: 0.2837 - accuracy: 0.8873\n",
      "Epoch 37/100\n",
      "714/714 [==============================] - 2s 3ms/step - loss: 0.2731 - accuracy: 0.8882\n",
      "Epoch 38/100\n",
      "714/714 [==============================] - 2s 3ms/step - loss: 0.2724 - accuracy: 0.8923\n",
      "Epoch 39/100\n",
      "714/714 [==============================] - 2s 3ms/step - loss: 0.2744 - accuracy: 0.8926\n",
      "Epoch 40/100\n",
      "714/714 [==============================] - 2s 3ms/step - loss: 0.2622 - accuracy: 0.8936\n",
      "Epoch 41/100\n",
      "714/714 [==============================] - 2s 3ms/step - loss: 0.2607 - accuracy: 0.8948\n",
      "Epoch 42/100\n",
      "714/714 [==============================] - 2s 3ms/step - loss: 0.2597 - accuracy: 0.8954\n",
      "Epoch 43/100\n",
      "714/714 [==============================] - 2s 3ms/step - loss: 0.2528 - accuracy: 0.9028\n",
      "Epoch 44/100\n",
      "714/714 [==============================] - 2s 3ms/step - loss: 0.2506 - accuracy: 0.8990\n",
      "Epoch 45/100\n",
      "714/714 [==============================] - 2s 3ms/step - loss: 0.2399 - accuracy: 0.9076\n",
      "Epoch 46/100\n",
      "714/714 [==============================] - 2s 3ms/step - loss: 0.2453 - accuracy: 0.9025\n",
      "Epoch 47/100\n",
      "714/714 [==============================] - 2s 3ms/step - loss: 0.2371 - accuracy: 0.9056\n",
      "Epoch 48/100\n",
      "714/714 [==============================] - 2s 3ms/step - loss: 0.2336 - accuracy: 0.9087\n",
      "Epoch 49/100\n",
      "714/714 [==============================] - 2s 3ms/step - loss: 0.2264 - accuracy: 0.9100\n",
      "Epoch 50/100\n",
      "714/714 [==============================] - 2s 3ms/step - loss: 0.2255 - accuracy: 0.9124\n",
      "Epoch 51/100\n",
      "714/714 [==============================] - 2s 3ms/step - loss: 0.2262 - accuracy: 0.9138\n",
      "Epoch 52/100\n",
      "714/714 [==============================] - 2s 3ms/step - loss: 0.2244 - accuracy: 0.9143\n",
      "Epoch 53/100\n",
      "714/714 [==============================] - 2s 3ms/step - loss: 0.2236 - accuracy: 0.9180\n",
      "Epoch 54/100\n",
      "714/714 [==============================] - 2s 3ms/step - loss: 0.2088 - accuracy: 0.9202\n",
      "Epoch 55/100\n",
      "714/714 [==============================] - 2s 3ms/step - loss: 0.2141 - accuracy: 0.9224\n",
      "Epoch 56/100\n",
      "714/714 [==============================] - 2s 3ms/step - loss: 0.2020 - accuracy: 0.9215\n",
      "Epoch 57/100\n",
      "714/714 [==============================] - 2s 3ms/step - loss: 0.2066 - accuracy: 0.9211\n",
      "Epoch 58/100\n",
      "714/714 [==============================] - 2s 3ms/step - loss: 0.2051 - accuracy: 0.9237\n",
      "Epoch 59/100\n",
      "714/714 [==============================] - 2s 3ms/step - loss: 0.2006 - accuracy: 0.9241\n",
      "Epoch 60/100\n",
      "714/714 [==============================] - 2s 3ms/step - loss: 0.1961 - accuracy: 0.9242\n",
      "Epoch 61/100\n",
      "714/714 [==============================] - 2s 3ms/step - loss: 0.1963 - accuracy: 0.9317\n",
      "Epoch 62/100\n",
      "714/714 [==============================] - 2s 3ms/step - loss: 0.1957 - accuracy: 0.9261\n",
      "Epoch 63/100\n",
      "714/714 [==============================] - 2s 3ms/step - loss: 0.1941 - accuracy: 0.9245\n",
      "Epoch 64/100\n",
      "714/714 [==============================] - 2s 3ms/step - loss: 0.1902 - accuracy: 0.9276\n",
      "Epoch 65/100\n",
      "714/714 [==============================] - 2s 3ms/step - loss: 0.1927 - accuracy: 0.9272\n",
      "Epoch 66/100\n",
      "714/714 [==============================] - 2s 3ms/step - loss: 0.1843 - accuracy: 0.9311\n",
      "Epoch 67/100\n",
      "714/714 [==============================] - 2s 3ms/step - loss: 0.1799 - accuracy: 0.9305\n",
      "Epoch 68/100\n",
      "714/714 [==============================] - 2s 3ms/step - loss: 0.1839 - accuracy: 0.9283\n",
      "Epoch 69/100\n",
      "714/714 [==============================] - 2s 3ms/step - loss: 0.1851 - accuracy: 0.9331\n",
      "Epoch 70/100\n",
      "714/714 [==============================] - 2s 3ms/step - loss: 0.1870 - accuracy: 0.9312\n",
      "Epoch 71/100\n",
      "714/714 [==============================] - 2s 3ms/step - loss: 0.1733 - accuracy: 0.9342\n",
      "Epoch 72/100\n",
      "714/714 [==============================] - 2s 3ms/step - loss: 0.1792 - accuracy: 0.9348\n",
      "Epoch 73/100\n",
      "714/714 [==============================] - 2s 3ms/step - loss: 0.1826 - accuracy: 0.9341\n",
      "Epoch 74/100\n",
      "714/714 [==============================] - 2s 3ms/step - loss: 0.1748 - accuracy: 0.9360\n",
      "Epoch 75/100\n",
      "714/714 [==============================] - 2s 3ms/step - loss: 0.1689 - accuracy: 0.9404\n",
      "Epoch 76/100\n",
      "714/714 [==============================] - 2s 3ms/step - loss: 0.1683 - accuracy: 0.9360\n",
      "Epoch 77/100\n",
      "714/714 [==============================] - 2s 3ms/step - loss: 0.1760 - accuracy: 0.9371\n",
      "Epoch 78/100\n",
      "714/714 [==============================] - 2s 3ms/step - loss: 0.1726 - accuracy: 0.9365\n",
      "Epoch 79/100\n",
      "714/714 [==============================] - 2s 3ms/step - loss: 0.1665 - accuracy: 0.9399\n",
      "Epoch 80/100\n",
      "714/714 [==============================] - 2s 3ms/step - loss: 0.1534 - accuracy: 0.9424\n",
      "Epoch 81/100\n",
      "714/714 [==============================] - 2s 3ms/step - loss: 0.1592 - accuracy: 0.9434\n",
      "Epoch 82/100\n",
      "714/714 [==============================] - 2s 3ms/step - loss: 0.1649 - accuracy: 0.9434\n",
      "Epoch 83/100\n",
      "714/714 [==============================] - 2s 3ms/step - loss: 0.1683 - accuracy: 0.9427\n",
      "Epoch 84/100\n",
      "714/714 [==============================] - 2s 3ms/step - loss: 0.1626 - accuracy: 0.9395\n",
      "Epoch 85/100\n",
      "714/714 [==============================] - 2s 3ms/step - loss: 0.1594 - accuracy: 0.9453\n",
      "Epoch 86/100\n",
      "714/714 [==============================] - 2s 3ms/step - loss: 0.1584 - accuracy: 0.9443\n",
      "Epoch 87/100\n",
      "714/714 [==============================] - 2s 3ms/step - loss: 0.1604 - accuracy: 0.9416\n",
      "Epoch 88/100\n",
      "714/714 [==============================] - 2s 3ms/step - loss: 0.1593 - accuracy: 0.9467\n",
      "Epoch 89/100\n",
      "714/714 [==============================] - 2s 3ms/step - loss: 0.1538 - accuracy: 0.9479\n",
      "Epoch 90/100\n",
      "714/714 [==============================] - 2s 3ms/step - loss: 0.1560 - accuracy: 0.9474\n",
      "Epoch 91/100\n",
      "714/714 [==============================] - 2s 3ms/step - loss: 0.1510 - accuracy: 0.9486\n",
      "Epoch 92/100\n",
      "714/714 [==============================] - 2s 3ms/step - loss: 0.1502 - accuracy: 0.9458\n",
      "Epoch 93/100\n",
      "714/714 [==============================] - 2s 3ms/step - loss: 0.1419 - accuracy: 0.9485\n",
      "Epoch 94/100\n",
      "714/714 [==============================] - 2s 3ms/step - loss: 0.1526 - accuracy: 0.9483\n",
      "Epoch 95/100\n",
      "714/714 [==============================] - 2s 3ms/step - loss: 0.1469 - accuracy: 0.9458\n",
      "Epoch 96/100\n",
      "714/714 [==============================] - 2s 3ms/step - loss: 0.1506 - accuracy: 0.9472\n",
      "Epoch 97/100\n",
      "714/714 [==============================] - 2s 3ms/step - loss: 0.1430 - accuracy: 0.9481\n",
      "Epoch 98/100\n",
      "714/714 [==============================] - 2s 3ms/step - loss: 0.1468 - accuracy: 0.9493\n",
      "Epoch 99/100\n",
      "714/714 [==============================] - 2s 3ms/step - loss: 0.1511 - accuracy: 0.9499\n",
      "Epoch 100/100\n",
      "714/714 [==============================] - 2s 3ms/step - loss: 0.1461 - accuracy: 0.9489\n"
     ]
    },
    {
     "data": {
      "text/plain": [
       "<tensorflow.python.keras.callbacks.History at 0x2b78a0502c8>"
      ]
     },
     "execution_count": 33,
     "metadata": {},
     "output_type": "execute_result"
    }
   ],
   "source": [
    "model.fit(X_train, y_train, epochs = 100, batch_size = 16) "
   ]
  },
  {
   "cell_type": "code",
   "execution_count": 34,
   "metadata": {},
   "outputs": [
    {
     "name": "stdout",
     "output_type": "stream",
     "text": [
      "476/476 [==============================] - 1s 1ms/step - loss: 0.9922 - accuracy: 0.7866\n",
      "Test accuracy:  0.7866438627243042\n"
     ]
    }
   ],
   "source": [
    "score = model.evaluate(X_test, y_test, batch_size = 16) \n",
    "print ('Test accuracy: ', score[1])"
   ]
  },
  {
   "cell_type": "code",
   "execution_count": 35,
   "metadata": {},
   "outputs": [
    {
     "name": "stdout",
     "output_type": "stream",
     "text": [
      "WARNING:tensorflow:From <ipython-input-35-11431e8eee8b>:1: Sequential.predict_proba (from tensorflow.python.keras.engine.sequential) is deprecated and will be removed after 2021-01-01.\n",
      "Instructions for updating:\n",
      "Please use `model.predict()` instead.\n",
      "KS value: 0.465229\n"
     ]
    }
   ],
   "source": [
    "pred_probas2 = model.predict_proba(X_test)[:,0]\n",
    "print (\"KS value: %f\" % ks_2samp(y_test, pred_probas2)[0] )"
   ]
  },
  {
   "cell_type": "code",
   "execution_count": 36,
   "metadata": {},
   "outputs": [
    {
     "data": {
      "image/png": "[encoded data removed]",
      "text/plain": [
       "<Figure size 432x288 with 1 Axes>"
      ]
     },
     "metadata": {
      "needs_background": "light"
     },
     "output_type": "display_data"
    }
   ],
   "source": [
    "fpr2,tpr2,_ = roc_curve(y_test, pred_probas2) \n",
    "roc_auc2 = sklearn.metrics.auc(fpr2,tpr2) \n",
    "plt.plot(fpr2, tpr2, label = 'roc_auc(MLP) = %.2f' % roc_auc2, color=\"red\") \n",
    "plt.plot(fpr, tpr, label = 'roc_auc(SVM(RBF)&PCA) = %.2f' % roc_auc, color=\"green\")    # SVM above \n",
    "plt.plot([0, 1], [0, 1], 'k--') \n",
    "plt.xlim([0.0, 1.0]) \n",
    "plt.ylim([0.0, 1.05]) \n",
    "plt.legend(loc = 'lower right') \n",
    "plt.show()"
   ]
  },
  {
   "cell_type": "markdown",
   "metadata": {},
   "source": [
    "使用MLP和SVM（RBF）&PCA的分类效果差不过。<br>\n",
    "使用MLP的KS值会低一些，模型的风险区分能力弱一点。"
   ]
  },
  {
   "cell_type": "code",
   "execution_count": 94,
   "metadata": {},
   "outputs": [
    {
     "name": "stdout",
     "output_type": "stream",
     "text": [
      "[[0.9997544]]\n"
     ]
    },
    {
     "name": "stderr",
     "output_type": "stream",
     "text": [
      "D:\\app\\anaconda\\envs\\pls\\lib\\site-packages\\ipykernel_launcher.py:6: DeprecationWarning: Call to deprecated `__getitem__` (Method will be removed in 4.0.0, use self.wv.__getitem__() instead).\n",
      "  \n"
     ]
    }
   ],
   "source": [
    "text = \"超好看\"\n",
    "seg_list = jieba.cut(text, cut_all=False)\n",
    "w2cTest = getWordVecs(list(seg_list))\n",
    "shapedVector = sum(np.array(w2cTest))/len(w2cTest)\n",
    "\n",
    "print(model.predict(shapedVector.reshape(1,-1)))\n"
   ]
  },
  {
   "cell_type": "code",
   "execution_count": 96,
   "metadata": {},
   "outputs": [
    {
     "name": "stdout",
     "output_type": "stream",
     "text": [
      "0.99455845\n"
     ]
    },
    {
     "name": "stderr",
     "output_type": "stream",
     "text": [
      "D:\\app\\anaconda\\envs\\pls\\lib\\site-packages\\ipykernel_launcher.py:6: DeprecationWarning: Call to deprecated `__getitem__` (Method will be removed in 4.0.0, use self.wv.__getitem__() instead).\n",
      "  \n"
     ]
    }
   ],
   "source": [
    "text = \"超级无敌好看，太喜欢了\"\n",
    "seg_list = jieba.cut(text, cut_all=False)\n",
    "w2cTest = getWordVecs(list(seg_list))\n",
    "shapedVector = sum(np.array(w2cTest))/len(w2cTest)\n",
    "\n",
    "print(model.predict(shapedVector.reshape(1,-1))[0][0])"
   ]
  },
  {
   "cell_type": "code",
   "execution_count": 82,
   "metadata": {},
   "outputs": [
    {
     "name": "stdout",
     "output_type": "stream",
     "text": [
      "[[7.3054696e-10]]\n"
     ]
    },
    {
     "name": "stderr",
     "output_type": "stream",
     "text": [
      "D:\\app\\anaconda\\envs\\pls\\lib\\site-packages\\ipykernel_launcher.py:6: DeprecationWarning: Call to deprecated `__getitem__` (Method will be removed in 4.0.0, use self.wv.__getitem__() instead).\n",
      "  \n"
     ]
    }
   ],
   "source": [
    "text = \"垃圾东西，屎一样\"\n",
    "seg_list = jieba.cut(text, cut_all=False)\n",
    "w2cTest = getWordVecs(list(seg_list))\n",
    "shapedVector = sum(np.array(w2cTest))/len(w2cTest)\n",
    "\n",
    "print(model.predict(shapedVector.reshape(1,-1)))"
   ]
  },
  {
   "cell_type": "markdown",
   "metadata": {},
   "source": [
    "可以看出，效果很不错"
   ]
  },
  {
   "cell_type": "markdown",
   "metadata": {},
   "source": [
    "# LSTM"
   ]
  },
  {
   "cell_type": "code",
   "execution_count": 83,
   "metadata": {},
   "outputs": [],
   "source": [
    "EMBEDDING_SIZE = 128\n",
    "HIDDEN_LAYER_SIZE = 64\n",
    "data_dim = 200\n",
    "timesteps = 1\n",
    "\n",
    "LSTM_model = Sequential()\n",
    "LSTM_model.add(LSTM(HIDDEN_LAYER_SIZE,input_shape=(timesteps,data_dim), dropout=0.2, recurrent_dropout=0.2))\n",
    "LSTM_model.add(Dense(1))\n",
    "LSTM_model.add(Activation(\"sigmoid\"))\n",
    "LSTM_model.compile(loss=\"binary_crossentropy\", optimizer=\"adam\",metrics=[\"accuracy\"])"
   ]
  },
  {
   "cell_type": "code",
   "execution_count": 84,
   "metadata": {},
   "outputs": [],
   "source": [
    "X_train_reshaped = np.reshape(X_train, (X_train.shape[0], 1, X_train.shape[1]))\n",
    "X_test_reshaped = np.reshape(X_test, (X_test.shape[0], 1, X_test.shape[1]))"
   ]
  },
  {
   "cell_type": "code",
   "execution_count": 85,
   "metadata": {},
   "outputs": [
    {
     "name": "stdout",
     "output_type": "stream",
     "text": [
      "Epoch 1/50\n",
      "714/714 [==============================] - 1s 2ms/step - loss: 0.5019 - accuracy: 0.7614\n",
      "Epoch 2/50\n",
      "714/714 [==============================] - 1s 2ms/step - loss: 0.4439 - accuracy: 0.7957\n",
      "Epoch 3/50\n",
      "714/714 [==============================] - 1s 2ms/step - loss: 0.4209 - accuracy: 0.8036\n",
      "Epoch 4/50\n",
      "714/714 [==============================] - 1s 2ms/step - loss: 0.3924 - accuracy: 0.8230\n",
      "Epoch 5/50\n",
      "714/714 [==============================] - 1s 2ms/step - loss: 0.3796 - accuracy: 0.8259\n",
      "Epoch 6/50\n",
      "714/714 [==============================] - 1s 2ms/step - loss: 0.3596 - accuracy: 0.8389\n",
      "Epoch 7/50\n",
      "714/714 [==============================] - 1s 2ms/step - loss: 0.3385 - accuracy: 0.8535\n",
      "Epoch 8/50\n",
      "714/714 [==============================] - 1s 2ms/step - loss: 0.3224 - accuracy: 0.8620\n",
      "Epoch 9/50\n",
      "714/714 [==============================] - 1s 2ms/step - loss: 0.3081 - accuracy: 0.8671\n",
      "Epoch 10/50\n",
      "714/714 [==============================] - 1s 2ms/step - loss: 0.2898 - accuracy: 0.8784\n",
      "Epoch 11/50\n",
      "714/714 [==============================] - 1s 2ms/step - loss: 0.2766 - accuracy: 0.8864\n",
      "Epoch 12/50\n",
      "714/714 [==============================] - 1s 2ms/step - loss: 0.2659 - accuracy: 0.8911\n",
      "Epoch 13/50\n",
      "714/714 [==============================] - 1s 2ms/step - loss: 0.2516 - accuracy: 0.8993\n",
      "Epoch 14/50\n",
      "714/714 [==============================] - 1s 2ms/step - loss: 0.2413 - accuracy: 0.9009\n",
      "Epoch 15/50\n",
      "714/714 [==============================] - 1s 2ms/step - loss: 0.2314 - accuracy: 0.9098\n",
      "Epoch 16/50\n",
      "714/714 [==============================] - 1s 2ms/step - loss: 0.2248 - accuracy: 0.9110\n",
      "Epoch 17/50\n",
      "714/714 [==============================] - 1s 2ms/step - loss: 0.2138 - accuracy: 0.9178\n",
      "Epoch 18/50\n",
      "714/714 [==============================] - 1s 2ms/step - loss: 0.1980 - accuracy: 0.9269\n",
      "Epoch 19/50\n",
      "714/714 [==============================] - 1s 2ms/step - loss: 0.1992 - accuracy: 0.9226\n",
      "Epoch 20/50\n",
      "714/714 [==============================] - 1s 2ms/step - loss: 0.1920 - accuracy: 0.9263\n",
      "Epoch 21/50\n",
      "714/714 [==============================] - 1s 2ms/step - loss: 0.1881 - accuracy: 0.9298\n",
      "Epoch 22/50\n",
      "714/714 [==============================] - 1s 2ms/step - loss: 0.1822 - accuracy: 0.9273\n",
      "Epoch 23/50\n",
      "714/714 [==============================] - 1s 2ms/step - loss: 0.1777 - accuracy: 0.9346\n",
      "Epoch 24/50\n",
      "714/714 [==============================] - 1s 2ms/step - loss: 0.1718 - accuracy: 0.9351\n",
      "Epoch 25/50\n",
      "714/714 [==============================] - 1s 2ms/step - loss: 0.1682 - accuracy: 0.9370\n",
      "Epoch 26/50\n",
      "714/714 [==============================] - 1s 2ms/step - loss: 0.1680 - accuracy: 0.9349\n",
      "Epoch 27/50\n",
      "714/714 [==============================] - 1s 2ms/step - loss: 0.1643 - accuracy: 0.9352\n",
      "Epoch 28/50\n",
      "714/714 [==============================] - 1s 2ms/step - loss: 0.1580 - accuracy: 0.9400\n",
      "Epoch 29/50\n",
      "714/714 [==============================] - 1s 2ms/step - loss: 0.1596 - accuracy: 0.9413\n",
      "Epoch 30/50\n",
      "714/714 [==============================] - 1s 2ms/step - loss: 0.1534 - accuracy: 0.9434\n",
      "Epoch 31/50\n",
      "714/714 [==============================] - 1s 2ms/step - loss: 0.1515 - accuracy: 0.9411\n",
      "Epoch 32/50\n",
      "714/714 [==============================] - 1s 2ms/step - loss: 0.1438 - accuracy: 0.9458\n",
      "Epoch 33/50\n",
      "714/714 [==============================] - 1s 2ms/step - loss: 0.1507 - accuracy: 0.9432\n",
      "Epoch 34/50\n",
      "714/714 [==============================] - 1s 2ms/step - loss: 0.1458 - accuracy: 0.9448\n",
      "Epoch 35/50\n",
      "714/714 [==============================] - 1s 2ms/step - loss: 0.1397 - accuracy: 0.9459\n",
      "Epoch 36/50\n",
      "714/714 [==============================] - 1s 2ms/step - loss: 0.1387 - accuracy: 0.9464\n",
      "Epoch 37/50\n",
      "714/714 [==============================] - 1s 2ms/step - loss: 0.1402 - accuracy: 0.9456\n",
      "Epoch 38/50\n",
      "714/714 [==============================] - 1s 2ms/step - loss: 0.1297 - accuracy: 0.9533\n",
      "Epoch 39/50\n",
      "714/714 [==============================] - 1s 2ms/step - loss: 0.1294 - accuracy: 0.9514\n",
      "Epoch 40/50\n",
      "714/714 [==============================] - 1s 2ms/step - loss: 0.1357 - accuracy: 0.9493\n",
      "Epoch 41/50\n",
      "714/714 [==============================] - 1s 2ms/step - loss: 0.1333 - accuracy: 0.9495\n",
      "Epoch 42/50\n",
      "714/714 [==============================] - 1s 2ms/step - loss: 0.1328 - accuracy: 0.9482\n",
      "Epoch 43/50\n",
      "714/714 [==============================] - 1s 2ms/step - loss: 0.1302 - accuracy: 0.9507\n",
      "Epoch 44/50\n",
      "714/714 [==============================] - 1s 2ms/step - loss: 0.1272 - accuracy: 0.9514\n",
      "Epoch 45/50\n",
      "714/714 [==============================] - 1s 2ms/step - loss: 0.1237 - accuracy: 0.9528\n",
      "Epoch 46/50\n",
      "714/714 [==============================] - 1s 2ms/step - loss: 0.1295 - accuracy: 0.9508\n",
      "Epoch 47/50\n",
      "714/714 [==============================] - 1s 2ms/step - loss: 0.1257 - accuracy: 0.9521\n",
      "Epoch 48/50\n",
      "714/714 [==============================] - 1s 2ms/step - loss: 0.1269 - accuracy: 0.9539\n",
      "Epoch 49/50\n",
      "714/714 [==============================] - 1s 2ms/step - loss: 0.1238 - accuracy: 0.9541\n",
      "Epoch 50/50\n",
      "714/714 [==============================] - 1s 2ms/step - loss: 0.1203 - accuracy: 0.9519\n"
     ]
    },
    {
     "data": {
      "text/plain": [
       "<tensorflow.python.keras.callbacks.History at 0x2b78a306a48>"
      ]
     },
     "execution_count": 85,
     "metadata": {},
     "output_type": "execute_result"
    }
   ],
   "source": [
    "LSTM_model.fit(X_train_reshaped, y_train, epochs = 50, batch_size = 16) "
   ]
  },
  {
   "cell_type": "code",
   "execution_count": 86,
   "metadata": {},
   "outputs": [
    {
     "name": "stdout",
     "output_type": "stream",
     "text": [
      "476/476 [==============================] - 0s 624us/step - loss: 0.8104 - accuracy: 0.7688\n",
      "Test accuracy:  0.7687656283378601\n",
      "KS value: 0.533456\n"
     ]
    }
   ],
   "source": [
    "score = LSTM_model.evaluate(X_test_reshaped, y_test, batch_size = 16) \n",
    "print ('Test accuracy: ', score[1])\n",
    "pred_probas3 = LSTM_model.predict_proba(X_test_reshaped)[:,0]\n",
    "print (\"KS value: %f\" % ks_2samp(y_test, pred_probas3)[0] )"
   ]
  },
  {
   "cell_type": "code",
   "execution_count": 87,
   "metadata": {},
   "outputs": [
    {
     "data": {
      "image/png": "[encoded data removed]",
      "text/plain": [
       "<Figure size 432x288 with 1 Axes>"
      ]
     },
     "metadata": {
      "needs_background": "light"
     },
     "output_type": "display_data"
    }
   ],
   "source": [
    "fpr3,tpr3,_ = roc_curve(y_test, pred_probas3) \n",
    "roc_auc3 = sklearn.metrics.auc(fpr3,tpr3) \n",
    "plt.plot(fpr3, tpr3, label = 'roc_auc(LSTM) = %.2f' % roc_auc3, color=\"blue\") \n",
    "plt.plot(fpr2, tpr2, label = 'roc_auc(MLP) = %.2f' % roc_auc2, color=\"red\") \n",
    "plt.plot(fpr, tpr, label = 'roc_auc(SVM(RBF)&PCA) = %.2f' % roc_auc, color=\"green\")    # SVM above \n",
    "plt.plot([0, 1], [0, 1], 'k--') \n",
    "plt.xlim([0.0, 1.0]) \n",
    "plt.ylim([0.0, 1.05]) \n",
    "plt.legend(loc = 'lower right') \n",
    "plt.show()"
   ]
  },
  {
   "cell_type": "code",
   "execution_count": 90,
   "metadata": {},
   "outputs": [
    {
     "name": "stdout",
     "output_type": "stream",
     "text": [
      "[[0.7405481]]\n"
     ]
    },
    {
     "name": "stderr",
     "output_type": "stream",
     "text": [
      "D:\\app\\anaconda\\envs\\pls\\lib\\site-packages\\ipykernel_launcher.py:6: DeprecationWarning: Call to deprecated `__getitem__` (Method will be removed in 4.0.0, use self.wv.__getitem__() instead).\n",
      "  \n"
     ]
    }
   ],
   "source": [
    "text = \"，虽然剧情有点牵强，女主设定有点奇怪，男主长的太丑了，其实还是可以一看的，期待下一部，超好看的！！！！！\"\n",
    "seg_list = jieba.cut(text, cut_all=False)\n",
    "w2cTest = getWordVecs(list(seg_list))\n",
    "shapedVector = sum(np.array(w2cTest))/len(w2cTest)\n",
    "shapedVector = np.array([shapedVector]);\n",
    "reshapedVector = np.reshape(shapedVector, (shapedVector.shape[0], 1, shapedVector.shape[1]))\n",
    "print(LSTM_model.predict_proba(reshapedVector))"
   ]
  },
  {
   "cell_type": "code",
   "execution_count": null,
   "metadata": {},
   "outputs": [],
   "source": [
    "model.save(\"outputs/MLPmodel.h5\")\n",
    "LSTM_model.save(\"outputs/LSTMmodel.h5\")"
   ]
  }
 ],
 "metadata": {
  "kernelspec": {
   "display_name": "Python [conda env:pls]",
   "language": "python",
   "name": "conda-env-pls-py"
  },
  "language_info": {
   "codemirror_mode": {
    "name": "ipython",
    "version": 3
   },
   "file_extension": ".py",
   "mimetype": "text/x-python",
   "name": "python",
   "nbconvert_exporter": "python",
   "pygments_lexer": "ipython3",
   "version": "3.7.9"
  }
 },
 "nbformat": 4,
 "nbformat_minor": 4
}
