{
 "cells": [
  {
   "cell_type": "markdown",
   "metadata": {},
   "source": [
    "# 参考链接：\n",
    "word2vec的应用----使用gensim来训练模型 https://blog.csdn.net/qq_35273499/article/details/79098689"
   ]
  },
  {
   "cell_type": "code",
   "execution_count": 1,
   "metadata": {},
   "outputs": [
    {
     "data": {
      "text/plain": [
       "'D:\\\\app\\\\anaconda\\\\envs\\\\pls\\\\lib'"
      ]
     },
     "execution_count": 1,
     "metadata": {},
     "output_type": "execute_result"
    }
   ],
   "source": [
    "import os\n",
    "os.path.dirname(os.__file__)"
   ]
  },
  {
   "cell_type": "code",
   "execution_count": null,
   "metadata": {},
   "outputs": [
    {
     "name": "stderr",
     "output_type": "stream",
     "text": [
      "2020-11-06 16:25:49,155 : INFO: collecting all words and their counts\n",
      "2020-11-06 16:25:49,157 : INFO: PROGRESS: at sentence #0, processed 0 words, keeping 0 word types\n",
      "2020-11-06 16:25:52,620 : INFO: collected 204977 word types from a corpus of 9860127 raw words and 987 sentences\n",
      "2020-11-06 16:25:52,621 : INFO: Loading a fresh vocabulary\n",
      "2020-11-06 16:25:52,798 : INFO: effective_min_count=5 retains 56329 unique words (27% of original 204977, drops 148648)\n",
      "2020-11-06 16:25:52,799 : INFO: effective_min_count=5 leaves 9629795 word corpus (97% of original 9860127, drops 230332)\n",
      "2020-11-06 16:25:52,958 : INFO: deleting the raw counts dictionary of 204977 items\n",
      "2020-11-06 16:25:52,968 : INFO: sample=0.001 downsamples 35 most-common words\n",
      "2020-11-06 16:25:52,969 : INFO: downsampling leaves estimated 7557112 word corpus (78.5% of prior 9629795)\n",
      "2020-11-06 16:25:53,142 : INFO: estimated required memory for 56329 words and 200 dimensions: 118290900 bytes\n",
      "2020-11-06 16:25:53,143 : INFO: resetting layer weights\n",
      "2020-11-06 16:26:03,821 : INFO: training model with 3 workers on 56329 vocabulary and 200 features, using sg=1 hs=0 sample=0.001 negative=5 window=5\n",
      "2020-11-06 16:26:04,840 : INFO: EPOCH 1 - PROGRESS: at 2.43% examples, 181917 words/s, in_qsize 5, out_qsize 0\n",
      "2020-11-06 16:26:05,877 : INFO: EPOCH 1 - PROGRESS: at 5.47% examples, 202202 words/s, in_qsize 5, out_qsize 0\n",
      "2020-11-06 16:26:06,883 : INFO: EPOCH 1 - PROGRESS: at 8.31% examples, 206131 words/s, in_qsize 5, out_qsize 0\n",
      "2020-11-06 16:26:07,898 : INFO: EPOCH 1 - PROGRESS: at 11.25% examples, 209521 words/s, in_qsize 6, out_qsize 0\n",
      "2020-11-06 16:26:08,921 : INFO: EPOCH 1 - PROGRESS: at 14.18% examples, 211241 words/s, in_qsize 5, out_qsize 0\n",
      "2020-11-06 16:26:09,930 : INFO: EPOCH 1 - PROGRESS: at 16.92% examples, 210184 words/s, in_qsize 5, out_qsize 0\n",
      "2020-11-06 16:26:11,006 : INFO: EPOCH 1 - PROGRESS: at 19.96% examples, 210794 words/s, in_qsize 6, out_qsize 0\n",
      "2020-11-06 16:26:12,009 : INFO: EPOCH 1 - PROGRESS: at 22.80% examples, 211208 words/s, in_qsize 5, out_qsize 0\n",
      "2020-11-06 16:26:13,026 : INFO: EPOCH 1 - PROGRESS: at 25.43% examples, 209622 words/s, in_qsize 5, out_qsize 0\n",
      "2020-11-06 16:26:14,078 : INFO: EPOCH 1 - PROGRESS: at 28.27% examples, 209021 words/s, in_qsize 5, out_qsize 0\n",
      "2020-11-06 16:26:15,096 : INFO: EPOCH 1 - PROGRESS: at 31.10% examples, 209289 words/s, in_qsize 5, out_qsize 0\n",
      "2020-11-06 16:26:16,146 : INFO: EPOCH 1 - PROGRESS: at 33.64% examples, 207087 words/s, in_qsize 6, out_qsize 0\n",
      "2020-11-06 16:26:17,197 : INFO: EPOCH 1 - PROGRESS: at 36.37% examples, 206347 words/s, in_qsize 5, out_qsize 0\n",
      "2020-11-06 16:26:18,203 : INFO: EPOCH 1 - PROGRESS: at 39.01% examples, 205769 words/s, in_qsize 5, out_qsize 0\n",
      "2020-11-06 16:26:19,226 : INFO: EPOCH 1 - PROGRESS: at 41.74% examples, 205622 words/s, in_qsize 6, out_qsize 0\n",
      "2020-11-06 16:26:20,237 : INFO: EPOCH 1 - PROGRESS: at 44.58% examples, 206110 words/s, in_qsize 5, out_qsize 0\n",
      "2020-11-06 16:26:21,261 : INFO: EPOCH 1 - PROGRESS: at 47.11% examples, 205039 words/s, in_qsize 5, out_qsize 0\n",
      "2020-11-06 16:26:22,276 : INFO: EPOCH 1 - PROGRESS: at 49.75% examples, 204583 words/s, in_qsize 6, out_qsize 0\n",
      "2020-11-06 16:26:23,299 : INFO: EPOCH 1 - PROGRESS: at 52.28% examples, 203734 words/s, in_qsize 6, out_qsize 0\n",
      "2020-11-06 16:26:24,333 : INFO: EPOCH 1 - PROGRESS: at 54.81% examples, 202848 words/s, in_qsize 4, out_qsize 1\n",
      "2020-11-06 16:26:25,341 : INFO: EPOCH 1 - PROGRESS: at 57.55% examples, 203003 words/s, in_qsize 5, out_qsize 0\n",
      "2020-11-06 16:26:26,407 : INFO: EPOCH 1 - PROGRESS: at 60.39% examples, 202915 words/s, in_qsize 5, out_qsize 0\n",
      "2020-11-06 16:26:27,422 : INFO: EPOCH 1 - PROGRESS: at 62.92% examples, 202307 words/s, in_qsize 6, out_qsize 0\n",
      "2020-11-06 16:26:28,456 : INFO: EPOCH 1 - PROGRESS: at 65.45% examples, 201631 words/s, in_qsize 5, out_qsize 0\n",
      "2020-11-06 16:26:29,538 : INFO: EPOCH 1 - PROGRESS: at 68.39% examples, 201597 words/s, in_qsize 5, out_qsize 0\n",
      "2020-11-06 16:26:30,579 : INFO: EPOCH 1 - PROGRESS: at 71.43% examples, 202150 words/s, in_qsize 5, out_qsize 0\n",
      "2020-11-06 16:26:31,599 : INFO: EPOCH 1 - PROGRESS: at 74.27% examples, 202275 words/s, in_qsize 5, out_qsize 0\n",
      "2020-11-06 16:26:32,607 : INFO: EPOCH 1 - PROGRESS: at 77.00% examples, 202388 words/s, in_qsize 5, out_qsize 0\n",
      "2020-11-06 16:26:33,662 : INFO: EPOCH 1 - PROGRESS: at 79.64% examples, 201926 words/s, in_qsize 5, out_qsize 0\n",
      "2020-11-06 16:26:34,700 : INFO: EPOCH 1 - PROGRESS: at 82.27% examples, 201603 words/s, in_qsize 6, out_qsize 0\n",
      "2020-11-06 16:26:35,726 : INFO: EPOCH 1 - PROGRESS: at 85.11% examples, 201845 words/s, in_qsize 6, out_qsize 0\n",
      "2020-11-06 16:26:36,730 : INFO: EPOCH 1 - PROGRESS: at 87.94% examples, 202226 words/s, in_qsize 5, out_qsize 0\n",
      "2020-11-06 16:26:37,746 : INFO: EPOCH 1 - PROGRESS: at 90.78% examples, 202480 words/s, in_qsize 5, out_qsize 0\n",
      "2020-11-06 16:26:38,761 : INFO: EPOCH 1 - PROGRESS: at 93.72% examples, 202960 words/s, in_qsize 5, out_qsize 0\n",
      "2020-11-06 16:26:39,815 : INFO: EPOCH 1 - PROGRESS: at 96.45% examples, 202763 words/s, in_qsize 5, out_qsize 1\n",
      "2020-11-06 16:26:40,853 : INFO: EPOCH 1 - PROGRESS: at 99.49% examples, 203269 words/s, in_qsize 5, out_qsize 0\n",
      "2020-11-06 16:26:40,906 : INFO: worker thread finished; awaiting finish of 2 more threads\n",
      "2020-11-06 16:26:40,941 : INFO: worker thread finished; awaiting finish of 1 more threads\n",
      "2020-11-06 16:26:40,975 : INFO: worker thread finished; awaiting finish of 0 more threads\n",
      "2020-11-06 16:26:40,976 : INFO: EPOCH - 1 : training on 9860127 raw words (7557621 effective words) took 37.2s, 203423 effective words/s\n",
      "2020-11-06 16:26:42,016 : INFO: EPOCH 2 - PROGRESS: at 2.74% examples, 200545 words/s, in_qsize 6, out_qsize 0\n",
      "2020-11-06 16:26:43,075 : INFO: EPOCH 2 - PROGRESS: at 5.78% examples, 209067 words/s, in_qsize 6, out_qsize 0\n",
      "2020-11-06 16:26:44,096 : INFO: EPOCH 2 - PROGRESS: at 8.71% examples, 212217 words/s, in_qsize 5, out_qsize 0\n",
      "2020-11-06 16:26:45,098 : INFO: EPOCH 2 - PROGRESS: at 11.55% examples, 212886 words/s, in_qsize 5, out_qsize 1\n",
      "2020-11-06 16:26:46,113 : INFO: EPOCH 2 - PROGRESS: at 14.39% examples, 212733 words/s, in_qsize 5, out_qsize 0\n",
      "2020-11-06 16:26:47,157 : INFO: EPOCH 2 - PROGRESS: at 17.12% examples, 210218 words/s, in_qsize 5, out_qsize 0\n",
      "2020-11-06 16:26:48,181 : INFO: EPOCH 2 - PROGRESS: at 20.06% examples, 211255 words/s, in_qsize 5, out_qsize 0\n",
      "2020-11-06 16:26:49,195 : INFO: EPOCH 2 - PROGRESS: at 22.90% examples, 211321 words/s, in_qsize 5, out_qsize 0\n",
      "2020-11-06 16:26:50,213 : INFO: EPOCH 2 - PROGRESS: at 25.94% examples, 212973 words/s, in_qsize 5, out_qsize 0\n",
      "2020-11-06 16:26:51,249 : INFO: EPOCH 2 - PROGRESS: at 28.88% examples, 213121 words/s, in_qsize 5, out_qsize 0\n",
      "2020-11-06 16:26:52,294 : INFO: EPOCH 2 - PROGRESS: at 31.71% examples, 212534 words/s, in_qsize 5, out_qsize 0\n",
      "2020-11-06 16:26:53,317 : INFO: EPOCH 2 - PROGRESS: at 34.65% examples, 213005 words/s, in_qsize 6, out_qsize 0\n",
      "2020-11-06 16:26:54,373 : INFO: EPOCH 2 - PROGRESS: at 37.08% examples, 209949 words/s, in_qsize 6, out_qsize 0\n",
      "2020-11-06 16:26:55,383 : INFO: EPOCH 2 - PROGRESS: at 39.21% examples, 206425 words/s, in_qsize 5, out_qsize 0\n",
      "2020-11-06 16:26:56,415 : INFO: EPOCH 2 - PROGRESS: at 41.44% examples, 203617 words/s, in_qsize 6, out_qsize 0\n",
      "2020-11-06 16:26:57,479 : INFO: EPOCH 2 - PROGRESS: at 43.87% examples, 201688 words/s, in_qsize 5, out_qsize 0\n",
      "2020-11-06 16:26:58,499 : INFO: EPOCH 2 - PROGRESS: at 46.30% examples, 200506 words/s, in_qsize 5, out_qsize 0\n",
      "2020-11-06 16:26:59,539 : INFO: EPOCH 2 - PROGRESS: at 49.24% examples, 201263 words/s, in_qsize 6, out_qsize 0\n",
      "2020-11-06 16:27:00,552 : INFO: EPOCH 2 - PROGRESS: at 52.08% examples, 201862 words/s, in_qsize 6, out_qsize 0\n",
      "2020-11-06 16:27:01,578 : INFO: EPOCH 2 - PROGRESS: at 54.91% examples, 202247 words/s, in_qsize 6, out_qsize 0\n",
      "2020-11-06 16:27:02,582 : INFO: EPOCH 2 - PROGRESS: at 57.85% examples, 203173 words/s, in_qsize 6, out_qsize 0\n",
      "2020-11-06 16:27:03,602 : INFO: EPOCH 2 - PROGRESS: at 60.59% examples, 203161 words/s, in_qsize 5, out_qsize 0\n",
      "2020-11-06 16:27:04,615 : INFO: EPOCH 2 - PROGRESS: at 63.32% examples, 203200 words/s, in_qsize 6, out_qsize 0\n",
      "2020-11-06 16:27:05,686 : INFO: EPOCH 2 - PROGRESS: at 66.26% examples, 203376 words/s, in_qsize 3, out_qsize 2\n"
     ]
    },
    {
     "name": "stderr",
     "output_type": "stream",
     "text": [
      "2020-11-06 16:27:06,725 : INFO: EPOCH 2 - PROGRESS: at 69.30% examples, 203891 words/s, in_qsize 5, out_qsize 0\n",
      "2020-11-06 16:27:07,751 : INFO: EPOCH 2 - PROGRESS: at 72.24% examples, 204183 words/s, in_qsize 6, out_qsize 0\n",
      "2020-11-06 16:27:08,767 : INFO: EPOCH 2 - PROGRESS: at 75.28% examples, 204859 words/s, in_qsize 6, out_qsize 0\n",
      "2020-11-06 16:27:09,807 : INFO: EPOCH 2 - PROGRESS: at 78.22% examples, 205195 words/s, in_qsize 6, out_qsize 0\n",
      "2020-11-06 16:27:10,820 : INFO: EPOCH 2 - PROGRESS: at 81.16% examples, 205694 words/s, in_qsize 6, out_qsize 0\n",
      "2020-11-06 16:27:11,927 : INFO: EPOCH 2 - PROGRESS: at 83.28% examples, 203548 words/s, in_qsize 5, out_qsize 0\n",
      "2020-11-06 16:27:12,931 : INFO: EPOCH 2 - PROGRESS: at 85.41% examples, 202194 words/s, in_qsize 5, out_qsize 0\n",
      "2020-11-06 16:27:13,980 : INFO: EPOCH 2 - PROGRESS: at 86.63% examples, 198556 words/s, in_qsize 6, out_qsize 0\n",
      "2020-11-06 16:27:14,984 : INFO: EPOCH 2 - PROGRESS: at 88.04% examples, 195860 words/s, in_qsize 6, out_qsize 0\n",
      "2020-11-06 16:27:15,991 : INFO: EPOCH 2 - PROGRESS: at 89.67% examples, 193743 words/s, in_qsize 6, out_qsize 0\n",
      "2020-11-06 16:27:17,029 : INFO: EPOCH 2 - PROGRESS: at 91.79% examples, 192615 words/s, in_qsize 5, out_qsize 0\n",
      "2020-11-06 16:27:18,103 : INFO: EPOCH 2 - PROGRESS: at 93.62% examples, 190766 words/s, in_qsize 6, out_qsize 0\n",
      "2020-11-06 16:27:19,149 : INFO: EPOCH 2 - PROGRESS: at 94.93% examples, 188149 words/s, in_qsize 6, out_qsize 0\n",
      "2020-11-06 16:27:20,149 : INFO: EPOCH 2 - PROGRESS: at 96.45% examples, 186272 words/s, in_qsize 5, out_qsize 0\n",
      "2020-11-06 16:27:21,186 : INFO: EPOCH 2 - PROGRESS: at 98.07% examples, 184521 words/s, in_qsize 6, out_qsize 0\n",
      "2020-11-06 16:27:22,193 : INFO: EPOCH 2 - PROGRESS: at 99.70% examples, 182977 words/s, in_qsize 3, out_qsize 0\n",
      "2020-11-06 16:27:22,194 : INFO: worker thread finished; awaiting finish of 2 more threads\n",
      "2020-11-06 16:27:22,204 : INFO: worker thread finished; awaiting finish of 1 more threads\n",
      "2020-11-06 16:27:22,303 : INFO: worker thread finished; awaiting finish of 0 more threads\n",
      "2020-11-06 16:27:22,304 : INFO: EPOCH - 2 : training on 9860127 raw words (7556719 effective words) took 41.3s, 182859 effective words/s\n",
      "2020-11-06 16:27:23,399 : INFO: EPOCH 3 - PROGRESS: at 1.93% examples, 134277 words/s, in_qsize 5, out_qsize 1\n",
      "2020-11-06 16:27:24,444 : INFO: EPOCH 3 - PROGRESS: at 4.15% examples, 147733 words/s, in_qsize 6, out_qsize 0\n",
      "2020-11-06 16:27:25,473 : INFO: EPOCH 3 - PROGRESS: at 5.98% examples, 143308 words/s, in_qsize 6, out_qsize 0\n",
      "2020-11-06 16:27:26,485 : INFO: EPOCH 3 - PROGRESS: at 7.80% examples, 141711 words/s, in_qsize 5, out_qsize 0\n",
      "2020-11-06 16:27:27,544 : INFO: EPOCH 3 - PROGRESS: at 9.73% examples, 140959 words/s, in_qsize 6, out_qsize 0\n",
      "2020-11-06 16:27:28,549 : INFO: EPOCH 3 - PROGRESS: at 11.96% examples, 145358 words/s, in_qsize 5, out_qsize 0\n",
      "2020-11-06 16:27:29,577 : INFO: EPOCH 3 - PROGRESS: at 14.08% examples, 147058 words/s, in_qsize 6, out_qsize 0\n",
      "2020-11-06 16:27:30,600 : INFO: EPOCH 3 - PROGRESS: at 16.62% examples, 151983 words/s, in_qsize 5, out_qsize 0\n",
      "2020-11-06 16:27:31,604 : INFO: EPOCH 3 - PROGRESS: at 19.35% examples, 157887 words/s, in_qsize 5, out_qsize 0\n",
      "2020-11-06 16:27:32,646 : INFO: EPOCH 3 - PROGRESS: at 22.19% examples, 162755 words/s, in_qsize 5, out_qsize 0\n",
      "2020-11-06 16:27:33,651 : INFO: EPOCH 3 - PROGRESS: at 24.92% examples, 166611 words/s, in_qsize 6, out_qsize 0\n",
      "2020-11-06 16:27:34,711 : INFO: EPOCH 3 - PROGRESS: at 27.96% examples, 170904 words/s, in_qsize 5, out_qsize 0\n",
      "2020-11-06 16:27:35,722 : INFO: EPOCH 3 - PROGRESS: at 31.00% examples, 175238 words/s, in_qsize 5, out_qsize 0\n",
      "2020-11-06 16:27:36,741 : INFO: EPOCH 3 - PROGRESS: at 33.94% examples, 178355 words/s, in_qsize 5, out_qsize 0\n",
      "2020-11-06 16:27:37,745 : INFO: EPOCH 3 - PROGRESS: at 36.88% examples, 181164 words/s, in_qsize 6, out_qsize 0\n",
      "2020-11-06 16:27:38,749 : INFO: EPOCH 3 - PROGRESS: at 39.72% examples, 183209 words/s, in_qsize 5, out_qsize 0\n",
      "2020-11-06 16:27:39,758 : INFO: EPOCH 3 - PROGRESS: at 42.25% examples, 183646 words/s, in_qsize 6, out_qsize 0\n",
      "2020-11-06 16:27:40,799 : INFO: EPOCH 3 - PROGRESS: at 44.78% examples, 183718 words/s, in_qsize 5, out_qsize 0\n",
      "2020-11-06 16:27:41,807 : INFO: EPOCH 3 - PROGRESS: at 47.62% examples, 185266 words/s, in_qsize 5, out_qsize 0\n",
      "2020-11-06 16:27:42,841 : INFO: EPOCH 3 - PROGRESS: at 50.46% examples, 186430 words/s, in_qsize 5, out_qsize 0\n",
      "2020-11-06 16:27:43,859 : INFO: EPOCH 3 - PROGRESS: at 53.39% examples, 187982 words/s, in_qsize 6, out_qsize 0\n",
      "2020-11-06 16:27:44,927 : INFO: EPOCH 3 - PROGRESS: at 56.13% examples, 188287 words/s, in_qsize 6, out_qsize 0\n",
      "2020-11-06 16:27:45,934 : INFO: EPOCH 3 - PROGRESS: at 58.87% examples, 189036 words/s, in_qsize 6, out_qsize 0\n",
      "2020-11-06 16:27:46,968 : INFO: EPOCH 3 - PROGRESS: at 61.80% examples, 190123 words/s, in_qsize 5, out_qsize 0\n",
      "2020-11-06 16:27:47,979 : INFO: EPOCH 3 - PROGRESS: at 64.54% examples, 190711 words/s, in_qsize 6, out_qsize 0\n",
      "2020-11-06 16:27:48,999 : INFO: EPOCH 3 - PROGRESS: at 66.67% examples, 189401 words/s, in_qsize 6, out_qsize 0\n",
      "2020-11-06 16:27:50,028 : INFO: EPOCH 3 - PROGRESS: at 69.10% examples, 188842 words/s, in_qsize 6, out_qsize 0\n",
      "2020-11-06 16:27:51,050 : INFO: EPOCH 3 - PROGRESS: at 70.92% examples, 186814 words/s, in_qsize 6, out_qsize 0\n",
      "2020-11-06 16:27:52,076 : INFO: EPOCH 3 - PROGRESS: at 73.25% examples, 186156 words/s, in_qsize 5, out_qsize 0\n",
      "2020-11-06 16:27:53,091 : INFO: EPOCH 3 - PROGRESS: at 76.09% examples, 186943 words/s, in_qsize 5, out_qsize 0\n",
      "2020-11-06 16:27:54,148 : INFO: EPOCH 3 - PROGRESS: at 78.93% examples, 187487 words/s, in_qsize 5, out_qsize 0\n",
      "2020-11-06 16:27:55,163 : INFO: EPOCH 3 - PROGRESS: at 81.86% examples, 188473 words/s, in_qsize 5, out_qsize 0\n",
      "2020-11-06 16:27:56,223 : INFO: EPOCH 3 - PROGRESS: at 84.60% examples, 188682 words/s, in_qsize 4, out_qsize 1\n",
      "2020-11-06 16:27:57,258 : INFO: EPOCH 3 - PROGRESS: at 87.44% examples, 189239 words/s, in_qsize 5, out_qsize 0\n",
      "2020-11-06 16:27:58,291 : INFO: EPOCH 3 - PROGRESS: at 90.27% examples, 189779 words/s, in_qsize 6, out_qsize 0\n",
      "2020-11-06 16:27:59,310 : INFO: EPOCH 3 - PROGRESS: at 93.11% examples, 190346 words/s, in_qsize 5, out_qsize 0\n",
      "2020-11-06 16:28:00,321 : INFO: EPOCH 3 - PROGRESS: at 95.95% examples, 190924 words/s, in_qsize 5, out_qsize 0\n",
      "2020-11-06 16:28:01,373 : INFO: EPOCH 3 - PROGRESS: at 98.99% examples, 191664 words/s, in_qsize 5, out_qsize 0\n",
      "2020-11-06 16:28:01,615 : INFO: worker thread finished; awaiting finish of 2 more threads\n",
      "2020-11-06 16:28:01,666 : INFO: worker thread finished; awaiting finish of 1 more threads\n",
      "2020-11-06 16:28:01,691 : INFO: worker thread finished; awaiting finish of 0 more threads\n",
      "2020-11-06 16:28:01,692 : INFO: EPOCH - 3 : training on 9860127 raw words (7556349 effective words) took 39.4s, 191864 effective words/s\n",
      "2020-11-06 16:28:02,703 : INFO: EPOCH 4 - PROGRESS: at 2.63% examples, 198324 words/s, in_qsize 6, out_qsize 0\n",
      "2020-11-06 16:28:03,728 : INFO: EPOCH 4 - PROGRESS: at 5.47% examples, 203919 words/s, in_qsize 6, out_qsize 0\n",
      "2020-11-06 16:28:04,759 : INFO: EPOCH 4 - PROGRESS: at 8.31% examples, 205684 words/s, in_qsize 5, out_qsize 0\n",
      "2020-11-06 16:28:05,777 : INFO: EPOCH 4 - PROGRESS: at 10.94% examples, 203445 words/s, in_qsize 5, out_qsize 0\n",
      "2020-11-06 16:28:06,796 : INFO: EPOCH 4 - PROGRESS: at 13.78% examples, 204957 words/s, in_qsize 5, out_qsize 0\n",
      "2020-11-06 16:28:07,808 : INFO: EPOCH 4 - PROGRESS: at 16.62% examples, 206099 words/s, in_qsize 5, out_qsize 0\n",
      "2020-11-06 16:28:08,817 : INFO: EPOCH 4 - PROGRESS: at 19.35% examples, 205991 words/s, in_qsize 6, out_qsize 0\n",
      "2020-11-06 16:28:09,845 : INFO: EPOCH 4 - PROGRESS: at 21.99% examples, 204580 words/s, in_qsize 5, out_qsize 0\n",
      "2020-11-06 16:28:10,888 : INFO: EPOCH 4 - PROGRESS: at 24.72% examples, 203903 words/s, in_qsize 6, out_qsize 0\n",
      "2020-11-06 16:28:11,890 : INFO: EPOCH 4 - PROGRESS: at 27.46% examples, 204148 words/s, in_qsize 6, out_qsize 0\n",
      "2020-11-06 16:28:12,897 : INFO: EPOCH 4 - PROGRESS: at 30.29% examples, 205020 words/s, in_qsize 5, out_qsize 0\n",
      "2020-11-06 16:28:13,911 : INFO: EPOCH 4 - PROGRESS: at 33.23% examples, 206341 words/s, in_qsize 5, out_qsize 0\n"
     ]
    },
    {
     "name": "stderr",
     "output_type": "stream",
     "text": [
      "2020-11-06 16:28:14,952 : INFO: EPOCH 4 - PROGRESS: at 35.46% examples, 202897 words/s, in_qsize 6, out_qsize 0\n",
      "2020-11-06 16:28:15,963 : INFO: EPOCH 4 - PROGRESS: at 38.10% examples, 202485 words/s, in_qsize 5, out_qsize 0\n",
      "2020-11-06 16:28:17,000 : INFO: EPOCH 4 - PROGRESS: at 40.83% examples, 202342 words/s, in_qsize 6, out_qsize 0\n",
      "2020-11-06 16:28:18,005 : INFO: EPOCH 4 - PROGRESS: at 43.77% examples, 203554 words/s, in_qsize 6, out_qsize 0\n",
      "2020-11-06 16:28:19,041 : INFO: EPOCH 4 - PROGRESS: at 46.40% examples, 202935 words/s, in_qsize 6, out_qsize 0\n",
      "2020-11-06 16:28:20,081 : INFO: EPOCH 4 - PROGRESS: at 49.24% examples, 203166 words/s, in_qsize 5, out_qsize 0\n"
     ]
    }
   ],
   "source": [
    "# 设置日志打印格式\n",
    "logging.basicConfig(format='%(asctime)s : %(levelname)s: %(message)s',level=logging.INFO)\n",
    "# 加载语料库\n",
    "sentences = word2vec.Text8Corpus(\"dataset/CommentsCorpus627.txt\")\n",
    "# size 词向量维度 默认100\n",
    "# 训练模型\n",
    "# model = word2vec.Word2Vec(sentences,size=200)\n",
    "model = word2vec.Word2Vec(sentences,size=200,sg=GensimTrainingAlgo.SG)\n",
    "# 保存模型\n",
    "model.save(\"W2Vmodel/CommentsW2V.model\")"
   ]
  },
  {
   "cell_type": "markdown",
   "metadata": {},
   "source": [
    "## 测试一下模型的效果"
   ]
  },
  {
   "cell_type": "code",
   "execution_count": null,
   "metadata": {},
   "outputs": [],
   "source": []
  }
 ],
 "metadata": {
  "kernelspec": {
   "display_name": "Python [conda env:pls]",
   "language": "python",
   "name": "conda-env-pls-py"
  },
  "language_info": {
   "codemirror_mode": {
    "name": "ipython",
    "version": 3
   },
   "file_extension": ".py",
   "mimetype": "text/x-python",
   "name": "python",
   "nbconvert_exporter": "python",
   "pygments_lexer": "ipython3",
   "version": "3.7.9"
  }
 },
 "nbformat": 4,
 "nbformat_minor": 4
}
